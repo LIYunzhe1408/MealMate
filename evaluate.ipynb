{
 "cells": [
  {
   "cell_type": "code",
   "execution_count": 9,
   "metadata": {},
   "outputs": [
    {
     "name": "stdout",
     "output_type": "stream",
     "text": [
      "32722\n"
     ]
    }
   ],
   "source": [
    "from datasets import load_dataset\n",
    "\n",
    "ds = load_dataset(\"Shengtao/recipe\")\n",
    "\n",
    "print(len(ds['train']))"
   ]
  },
  {
   "cell_type": "code",
   "execution_count": 26,
   "metadata": {},
   "outputs": [],
   "source": [
    "import openai\n",
    "\n",
    "# api\n",
    "openai.api_key = \"\"\n",
    "\n",
    "def call_chatgpt_api(user_input, model=\"gpt-3.5-turbo\", system_message=\"You are a professional chef\"):\n",
    "    response = openai.chat.completions.create(\n",
    "            model=model,\n",
    "            messages=[\n",
    "                {\"role\": \"system\", \"content\": system_message},\n",
    "                {\"role\": \"user\", \"content\": user_input}\n",
    "            ]\n",
    "        )\n",
    "    return response.choices[0].message.content"
   ]
  },
  {
   "cell_type": "markdown",
   "metadata": {},
   "source": [
    "Load BERT to calculate similarity score"
   ]
  },
  {
   "cell_type": "code",
   "execution_count": 27,
   "metadata": {},
   "outputs": [],
   "source": [
    "from transformers import BertTokenizer, BertModel\n",
    "from sklearn.metrics.pairwise import cosine_similarity\n",
    "import torch\n",
    "\n",
    "\n",
    "tokenizer = BertTokenizer.from_pretrained('bert-base-uncased')\n",
    "model = BertModel.from_pretrained('bert-base-uncased')\n",
    "\n",
    "def get_embedding(text):\n",
    "    inputs = tokenizer(text, return_tensors='pt', padding=True, truncation=True)\n",
    "    with torch.no_grad():\n",
    "        outputs = model(**inputs)\n",
    "    return outputs.last_hidden_state.mean(dim=1).squeeze()\n",
    "\n",
    "def cosine_similarity_score(text1, text2):\n",
    "    emb1 = get_embedding(text1).numpy().reshape(1, -1)\n",
    "    emb2 = get_embedding(text2).numpy().reshape(1, -1)\n",
    "    return cosine_similarity(emb1, emb2)[0][0]"
   ]
  },
  {
   "cell_type": "code",
   "execution_count": 29,
   "metadata": {},
   "outputs": [
    {
     "name": "stdout",
     "output_type": "stream",
     "text": [
      "Query: What's the ingredients of Simple Macaroni and Cheese? Please list the specific amount of each ingredient only, separate with semicolons.\n",
      "Generated response: 8 oz macaroni; 2 cups shredded cheddar cheese; 2 tbsp butter; 2 tbsp all-purpose flour; 2 cups milk; Salt and pepper to taste\n",
      "Standard ingredients: 1 (8 ounce) box elbow macaroni ; ¼ cup butter ; ¼ cup all-purpose flour ; ½ teaspoon salt ;   ground black pepper to taste ; 2 cups milk ; 2 cups shredded Cheddar cheese\n",
      "Cosine similarity: 0.9573\n",
      "\n",
      "Query: What's the ingredients of Gourmet Mushroom Risotto? Please list the specific amount of each ingredient only, separate with semicolons.\n",
      "Generated response: Arborio rice; 1 cup\n",
      "Assorted gourmet mushrooms (such as shiitake, oyster, and cremini); 1 1/2 cups sliced\n",
      "Shallots; 2, finely chopped\n",
      "Garlic cloves; 2, minced\n",
      "Dry white wine; 1/2 cup\n",
      "Vegetable or chicken broth; 4 cups\n",
      "Butter; 2 tablespoons\n",
      "Olive oil; 2 tablespoons\n",
      "Parmesan cheese; 1/2 cup, grated\n",
      "Salt; 1 teaspoon\n",
      "Black pepper; 1/2 teaspoon\n",
      "Fresh parsley; for garnish\n",
      "Standard ingredients: 6 cups chicken broth, divided ; 3 tablespoons olive oil, divided ; 1 pound portobello mushrooms, thinly sliced ; 1 pound white mushrooms, thinly sliced ; 2  shallots, diced ; 1 ½ cups Arborio rice ; ½ cup dry white wine ;   sea salt to taste ;   freshly ground black pepper to taste ; 3 tablespoons finely chopped chives ; 4 tablespoons butter ; ⅓ cup freshly grated Parmesan cheese\n",
      "Cosine similarity: 0.9471\n",
      "\n"
     ]
    }
   ],
   "source": [
    "titles = ds['train']['title']\n",
    "ingredients = ds['train']['ingredients']\n",
    "\n",
    "for i in range(2):\n",
    "    title = titles[i]\n",
    "    query = f\"What's the ingredients of {title}? Please list the specific amount of each ingredient only, separate with semicolons.\"\n",
    "    print(f\"Query: {query}\")\n",
    "    \n",
    "    ## TODO: link to the chef de cuisine\n",
    "    response = call_chatgpt_api(query)\n",
    "    print(f\"Generated response: {response}\")\n",
    "    \n",
    "    ingredient = ingredients[i]\n",
    "    print(f\"Standard ingredients: {ingredient}\")\n",
    "    \n",
    "    similarity_score = cosine_similarity_score(response, ingredient)\n",
    "    print(f\"Cosine similarity: {similarity_score:.4f}\\n\")"
   ]
  }
 ],
 "metadata": {
  "kernelspec": {
   "display_name": "base",
   "language": "python",
   "name": "python3"
  },
  "language_info": {
   "codemirror_mode": {
    "name": "ipython",
    "version": 3
   },
   "file_extension": ".py",
   "mimetype": "text/x-python",
   "name": "python",
   "nbconvert_exporter": "python",
   "pygments_lexer": "ipython3",
   "version": "3.12.4"
  }
 },
 "nbformat": 4,
 "nbformat_minor": 2
}
